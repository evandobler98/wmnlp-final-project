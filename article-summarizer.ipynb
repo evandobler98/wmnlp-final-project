{
 "cells": [
  {
   "cell_type": "markdown",
   "metadata": {},
   "source": [
    "# Web Mining and Applied NLP (44-620)\n",
    "\n",
    "## Final Project: Article Summarizer\n",
    "\n",
    "### Student Name: Evan Dobler\n",
    "\n",
    "### [GitHub](https://github.com/evandobler98)\n",
    "\n",
    "Perform the tasks described in the Markdown cells below.  When you have completed the assignment make sure your code cells have all been run (and have output beneath them) and ensure you have committed and pushed ALL of your changes to your assignment repository.\n",
    "\n",
    "You should bring in code from previous assignments to help you answer the questions below.\n",
    "\n",
    "Every question that requires you to write code will have a code cell underneath it; you may either write your entire solution in that cell or write it in a python file (`.py`), then import and run the appropriate code to answer the question."
   ]
  },
  {
   "cell_type": "markdown",
   "metadata": {},
   "source": [
    "## Import Necessary Dependencies and Check\n"
   ]
  },
  {
   "cell_type": "code",
   "execution_count": 784,
   "metadata": {},
   "outputs": [
    {
     "name": "stdout",
     "output_type": "stream",
     "text": [
      "Package            Version\n",
      "------------------ ------------\n",
      "annotated-types    0.7.0\n",
      "appnope            0.1.4\n",
      "asttokens          3.0.0\n",
      "beautifulsoup4     4.12.3\n",
      "blis               1.0.1\n",
      "catalogue          2.0.10\n",
      "certifi            2024.8.30\n",
      "charset-normalizer 3.4.0\n",
      "click              8.1.7\n",
      "cloudpathlib       0.20.0\n",
      "comm               0.2.2\n",
      "confection         0.1.5\n",
      "contourpy          1.3.1\n",
      "cycler             0.12.1\n",
      "cymem              2.0.10\n",
      "debugpy            1.8.9\n",
      "decorator          5.1.1\n",
      "en_core_web_sm     3.8.0\n",
      "executing          2.1.0\n",
      "fonttools          4.55.0\n",
      "html5lib           1.1\n",
      "idna               3.10\n",
      "ipykernel          6.29.5\n",
      "ipython            8.30.0\n",
      "jedi               0.19.2\n",
      "Jinja2             3.1.4\n",
      "joblib             1.4.2\n",
      "jupyter_client     8.6.3\n",
      "jupyter_core       5.7.2\n",
      "kiwisolver         1.4.7\n",
      "langcodes          3.5.0\n",
      "language_data      1.3.0\n",
      "marisa-trie        1.2.1\n",
      "markdown-it-py     3.0.0\n",
      "MarkupSafe         3.0.2\n",
      "matplotlib         3.9.3\n",
      "matplotlib-inline  0.1.7\n",
      "mdurl              0.1.2\n",
      "murmurhash         1.0.11\n",
      "nest-asyncio       1.6.0\n",
      "nltk               3.9.1\n",
      "numpy              2.0.2\n",
      "packaging          24.2\n",
      "pandas             2.2.3\n",
      "parso              0.8.4\n",
      "pexpect            4.9.0\n",
      "pillow             11.0.0\n",
      "pip                24.3.1\n",
      "platformdirs       4.3.6\n",
      "preshed            3.0.9\n",
      "prompt_toolkit     3.0.48\n",
      "psutil             6.1.0\n",
      "ptyprocess         0.7.0\n",
      "pure_eval          0.2.3\n",
      "pydantic           2.10.2\n",
      "pydantic_core      2.27.1\n",
      "Pygments           2.18.0\n",
      "pyparsing          3.2.0\n",
      "python-dateutil    2.9.0.post0\n",
      "pytz               2024.2\n",
      "pyzmq              26.2.0\n",
      "regex              2024.11.6\n",
      "requests           2.32.3\n",
      "rich               13.9.4\n",
      "setuptools         75.6.0\n",
      "shellingham        1.5.4\n",
      "six                1.16.0\n",
      "smart-open         7.0.5\n",
      "soupsieve          2.6\n",
      "spacy              3.8.2\n",
      "spacy-legacy       3.0.12\n",
      "spacy-loggers      1.0.5\n",
      "spacytextblob      5.0.0\n",
      "srsly              2.4.8\n",
      "stack-data         0.6.3\n",
      "textblob           0.18.0.post0\n",
      "thinc              8.3.2\n",
      "tornado            6.4.2\n",
      "tqdm               4.67.1\n",
      "traitlets          5.14.3\n",
      "typer              0.14.0\n",
      "typing_extensions  4.12.2\n",
      "tzdata             2024.2\n",
      "urllib3            2.2.3\n",
      "wasabi             1.1.3\n",
      "wcwidth            0.2.13\n",
      "weasel             0.4.1\n",
      "webencodings       0.5.1\n",
      "wrapt              1.17.0\n",
      "All prereqs installed.\n"
     ]
    }
   ],
   "source": [
    "from collections import Counter\n",
    "import pickle\n",
    "import requests\n",
    "import spacy\n",
    "from bs4 import BeautifulSoup\n",
    "import matplotlib.pyplot as plt\n",
    "import numpy as np\n",
    "from spacytextblob.spacytextblob import SpacyTextBlob\n",
    "from textblob import TextBlob\n",
    "\n",
    "!pip list\n",
    "\n",
    "print('All prereqs installed.')"
   ]
  },
  {
   "cell_type": "markdown",
   "metadata": {},
   "source": [
    "1. Find on the internet an article or blog post about a topic that interests you and you are able to get the text for using the technologies we have applied in the course.  Get the html for the article and store it in a file (which you must submit with your project)"
   ]
  },
  {
   "cell_type": "code",
   "execution_count": 785,
   "metadata": {},
   "outputs": [
    {
     "name": "stdout",
     "output_type": "stream",
     "text": [
      "HTML content has been saved to 'article.html'\n"
     ]
    }
   ],
   "source": [
    "# URL of the article\n",
    "url = \"https://www.newsweek.com/rankings/worlds-best-hospitals-2024/united-states\"\n",
    "\n",
    "# Set a user-agent header to simulate a browser request\n",
    "headers = {\n",
    "    'User-Agent': 'Mozilla/5.0 (Windows NT 10.0; Win64; x64) AppleWebKit/537.36 (KHTML, like Gecko) Chrome/92.0.4515.159 Safari/537.36'\n",
    "}\n",
    "\n",
    "# Send a GET request to the webpage with headers and a timeout\n",
    "try:\n",
    "    response = requests.get(url, headers=headers, timeout=30)  # Timeout set to 30 seconds\n",
    "    \n",
    "    # Check if the request was successful (status code 200)\n",
    "    if response.status_code == 200:\n",
    "       \n",
    "        # Get the content of the page\n",
    "        page_content = response.content\n",
    "\n",
    "        # Parse content \n",
    "        soup = BeautifulSoup(page_content, \"html.parser\")\n",
    "\n",
    "        # Write HTML content to a file\n",
    "        with open(\"article.html\", \"wb\") as file:\n",
    "            file.write(page_content)\n",
    "\n",
    "        print(\"HTML content has been saved to 'article.html'\")\n",
    "    else:\n",
    "        print(f\"Failed to retrieve the webpage. Status code: {response.status_code}\")\n",
    "except requests.exceptions.Timeout:\n",
    "    print(\"Request timed out. Please try again.\")\n",
    "except requests.exceptions.RequestException as e:\n",
    "    print(f\"An error occurred: {e}\")\n"
   ]
  },
  {
   "cell_type": "markdown",
   "metadata": {},
   "source": [
    "2. Read in your article's html source from the file you created in question 1 and do sentiment analysis on the article/post's text (use `.get_text()`).  Print the polarity score with an appropriate label.  Additionally print the number of sentences in the original article (with an appropriate label)"
   ]
  },
  {
   "cell_type": "code",
   "execution_count": 786,
   "metadata": {},
   "outputs": [
    {
     "name": "stdout",
     "output_type": "stream",
     "text": [
      "The overall Article polarity score is 0.09191405861897593\n",
      "The overall sentiment of the Article is positive.\n",
      "Number of Sentences in the Article: 102\n"
     ]
    }
   ],
   "source": [
    "# Load spaCy model and add the spacytextblob pipe\n",
    "nlp = spacy.load(\"en_core_web_sm\")\n",
    "nlp.add_pipe(\"spacytextblob\")\n",
    "\n",
    "# Set a user-agent header to simulate a browser request\n",
    "url = \"https://www.newsweek.com/rankings/worlds-best-hospitals-2024/united-states\"\n",
    "headers = {\n",
    "    'User-Agent': 'Mozilla/5.0 (Windows NT 10.0; Win64; x64) AppleWebKit/537.36 (KHTML, like Gecko) Chrome/92.0.4515.159 Safari/537.36'\n",
    "}\n",
    "\n",
    "# Fetch the webpage with the user-agent header\n",
    "response = requests.get(url, headers=headers)\n",
    "\n",
    "# Check that the request was successful\n",
    "if response.status_code == 200:\n",
    "    html_content = response.text\n",
    "else:\n",
    "    print(f\"Failed to retrieve the webpage. Status code: {response.status_code}\")\n",
    "    html_content = \"\"\n",
    "\n",
    "# Parse the HTML content \n",
    "soup = BeautifulSoup(html_content, 'html.parser')\n",
    "\n",
    "# Extract text from article\n",
    "article_text = soup.get_text(separator=' ', strip=True)\n",
    "\n",
    "# Use spaCy to analyze the sentiment\n",
    "doc = nlp(article_text)\n",
    "polarity = doc._.blob.polarity\n",
    "\n",
    "# Print polarity score\n",
    "print(\"The overall Article polarity score is\", polarity)\n",
    "\n",
    "# Determine sentiment based on polarity\n",
    "if polarity > 0:\n",
    "    sentiment = \"positive\"\n",
    "elif polarity < 0:\n",
    "    sentiment = \"negative\"\n",
    "else:\n",
    "    sentiment = \"neutral\"\n",
    "\n",
    "# Print the sentiment\n",
    "print(f\"The overall sentiment of the Article is {sentiment}.\")\n",
    "\n",
    "# Count total sentences in article\n",
    "num_sentences = len(list(doc.sents))\n",
    "print(f\"Number of Sentences in the Article: {num_sentences}\")\n"
   ]
  },
  {
   "cell_type": "markdown",
   "metadata": {},
   "source": [
    "3. Load the article text into a trained `spaCy` pipeline, and determine the 5 most frequent tokens (converted to lower case).  Print the common tokens with an appropriate label.  Additionally, print the tokens their frequencies (with appropriate labels)"
   ]
  },
  {
   "cell_type": "code",
   "execution_count": 787,
   "metadata": {},
   "outputs": [
    {
     "name": "stdout",
     "output_type": "stream",
     "text": [
      "The 5 most frequent tokens are:\n",
      "Token: ✓, Frequency: 451\n",
      "Token: hospital, Frequency: 237\n",
      "Token: medical, Frequency: 176\n",
      "Token: center, Frequency: 166\n",
      "Token: hospitals, Frequency: 77\n"
     ]
    }
   ],
   "source": [
    "# Load the spaCy model\n",
    "nlp = spacy.load(\"en_core_web_sm\")\n",
    "\n",
    "# Load HTML content from the file\n",
    "with open(\"article.html\", \"r\", encoding=\"utf-8\") as file:\n",
    "    html_content = file.read()\n",
    "\n",
    "# Parse HTML content \n",
    "soup = BeautifulSoup(html_content, 'html.parser')\n",
    "\n",
    "# Extract the article text\n",
    "article_text = soup.get_text(separator=' ', strip=True)\n",
    "\n",
    "# Process the text using spaCy pipeline\n",
    "doc = nlp(article_text)\n",
    "\n",
    "# Collect tokens and convert to lowercase\n",
    "tokens = [token.text.lower() for token in doc if not token.is_stop and not token.is_punct]\n",
    "\n",
    "# Count token frequencies\n",
    "token_freq = Counter(tokens)\n",
    "\n",
    "# Print 5 most frequent tokens\n",
    "print(\"The 5 most frequent tokens are:\")\n",
    "for token, freq in token_freq.most_common(5):\n",
    "    print(f\"Token: {token}, Frequency: {freq}\")\n"
   ]
  },
  {
   "cell_type": "markdown",
   "metadata": {},
   "source": [
    "4. Load the article text into a trained `spaCy` pipeline, and determine the 5 most frequent lemmas (converted to lower case).  Print the common lemmas with an appropriate label.  Additionally, print the lemmas with their frequencies (with appropriate labels)."
   ]
  },
  {
   "cell_type": "code",
   "execution_count": 788,
   "metadata": {},
   "outputs": [
    {
     "name": "stdout",
     "output_type": "stream",
     "text": [
      "The 5 most frequent lemmas are:\n",
      "Lemma: ✓, Frequency: 451\n",
      "Lemma: hospital, Frequency: 269\n",
      "Lemma: medical, Frequency: 176\n",
      "Lemma: center, Frequency: 167\n",
      "Lemma: health, Frequency: 77\n"
     ]
    }
   ],
   "source": [
    "# Load the spaCy model\n",
    "nlp = spacy.load(\"en_core_web_sm\")\n",
    "\n",
    "# Load HTML content from the file\n",
    "with open(\"article.html\", \"r\", encoding=\"utf-8\") as file:\n",
    "    html_content = file.read()\n",
    "\n",
    "# Parse HTML content \n",
    "soup = BeautifulSoup(html_content, 'html.parser')\n",
    "\n",
    "# Extract the article text\n",
    "article_text = soup.get_text(separator=' ', strip=True)\n",
    "\n",
    "# Process the text using spaCy pipeline\n",
    "doc = nlp(article_text)\n",
    "\n",
    "# Collect lemmas and convert to lowercase\n",
    "lemmas = [token.lemma_.lower() for token in doc if not token.is_stop and not token.is_punct]\n",
    "\n",
    "# Count lemma frequencies\n",
    "lemma_freq = Counter(lemmas)\n",
    "\n",
    "# Print 5 most frequent lemmas\n",
    "print(\"The 5 most frequent lemmas are:\")\n",
    "for lemma, freq in lemma_freq.most_common(5):\n",
    "    print(f\"Lemma: {lemma}, Frequency: {freq}\")\n"
   ]
  },
  {
   "cell_type": "markdown",
   "metadata": {},
   "source": [
    "5. Make a list containing the scores (using tokens) of every sentence in the article, and plot a histogram with appropriate titles and axis labels of the scores. From your histogram, what seems to be the most common range of scores (put the answer in a comment after your code)?"
   ]
  },
  {
   "cell_type": "code",
   "execution_count": 789,
   "metadata": {},
   "outputs": [
    {
     "data": {
      "image/png": "[encoded data removed]",
      "text/plain": [
       "<Figure size 640x480 with 1 Axes>"
      ]
     },
     "metadata": {},
     "output_type": "display_data"
    },
    {
     "name": "stdout",
     "output_type": "stream",
     "text": [
      "List of Sentence Sentiment Scores (Using Tokens):\n",
      "Sentence 1: 0.67 | Sentence 2: 0.67 | Sentence 3: 0.56 | Sentence 4: 1.00 | Sentence 5: 0.00\n",
      "Sentence 6: 0.19 | Sentence 7: 0.14 | Sentence 8: 0.14 | Sentence 9: 0.00 | Sentence 10: 0.10\n",
      "Sentence 11: 0.00 | Sentence 12: 0.00 | Sentence 13: 0.07 | Sentence 14: 0.20 | Sentence 15: -0.01\n",
      "Sentence 16: 0.02 | Sentence 17: -0.01 | Sentence 18: -0.05 | Sentence 19: 0.02 | Sentence 20: 0.25\n",
      "Sentence 21: 0.50 | Sentence 22: 0.00 | Sentence 23: 0.33 | Sentence 24: 0.00 | Sentence 25: 0.00\n",
      "Sentence 26: 1.00 | Sentence 27: 0.00 | Sentence 28: -0.10 | Sentence 29: 0.00 | Sentence 30: 0.07\n",
      "Sentence 31: -0.02 | Sentence 32: 1.00 | Sentence 33: 0.00 | Sentence 34: 0.00 | Sentence 35: 0.14\n",
      "Sentence 36: 0.00 | Sentence 37: 0.00 | Sentence 38: 0.00 | Sentence 39: 0.00 | Sentence 40: 0.24\n",
      "Sentence 41: 0.60 | Sentence 42: 0.40 | Sentence 43: -0.17 | Sentence 44: 0.03 | Sentence 45: 0.00\n",
      "Sentence 46: 0.25 | Sentence 47: 0.00 | Sentence 48: 0.00 | Sentence 49: 1.00 | Sentence 50: 0.00\n",
      "Sentence 51: 0.00 | Sentence 52: 0.40 | Sentence 53: 0.07 | Sentence 54: 0.00 | Sentence 55: 0.00\n",
      "Sentence 56: 0.00 | Sentence 57: 0.00 | Sentence 58: 0.09 | Sentence 59: 0.00 | Sentence 60: 0.50\n",
      "Sentence 61: 0.00 | Sentence 62: -0.08 | Sentence 63: 0.14 | Sentence 64: 0.00 | Sentence 65: 0.00\n",
      "Sentence 66: 0.31 | Sentence 67: 0.12 | Sentence 68: 0.00 | Sentence 69: 0.00 | Sentence 70: 0.09\n",
      "Sentence 71: 0.00 | Sentence 72: 0.00 | Sentence 73: 0.00 | Sentence 74: 0.09 | Sentence 75: 0.00\n",
      "Sentence 76: 0.00 | Sentence 77: 0.00 | Sentence 78: 0.00 | Sentence 79: 0.00 | Sentence 80: 0.46\n",
      "Sentence 81: -0.80 | Sentence 82: -0.07 | Sentence 83: 0.50 | Sentence 84: 0.75 | Sentence 85: 0.33\n",
      "Sentence 86: 0.00 | Sentence 87: 0.00 | Sentence 88: 0.00 | Sentence 89: 0.50 | Sentence 90: 0.00\n",
      "Sentence 91: 0.20 | Sentence 92: 0.00 | Sentence 93: 0.10 | Sentence 94: 0.30 | Sentence 95: 0.23\n",
      "Sentence 96: 0.00 | Sentence 97: 0.00 | Sentence 98: 0.00 | Sentence 99: 0.00 | Sentence 100: 0.25\n",
      "Sentence 101: 0.00 | Sentence 102: -0.05\n",
      "\n",
      "Number of Scores: 102\n"
     ]
    }
   ],
   "source": [
    "# Load spaCy model and add spacytextblob pipeline\n",
    "nlp = spacy.load(\"en_core_web_sm\")\n",
    "nlp.add_pipe(\"spacytextblob\")\n",
    "\n",
    "# Load HTML content \n",
    "with open(\"article.html\", \"r\", encoding=\"utf-8\") as file:\n",
    "    html_content = file.read()\n",
    "\n",
    "# Parse HTML content\n",
    "soup = BeautifulSoup(html_content, 'html.parser')\n",
    "\n",
    "# Extract the article text\n",
    "article_text = soup.get_text(separator=' ', strip=True)\n",
    "\n",
    "# Process the article text with spaCy pipeline\n",
    "doc = nlp(article_text)\n",
    "\n",
    "# Calculate sentiment score for each sentence based on tokens\n",
    "sentence_token_scores = []\n",
    "for sent in doc.sents:\n",
    "    \n",
    "    # Reconstruct the sentence using tokens\n",
    "    token_text = \" \".join([token.text for token in sent])\n",
    "    \n",
    "    # Use the spacytextblob sentiment polarity for the reconstructed sentence\n",
    "    token_doc = nlp(token_text)\n",
    "    sentence_token_scores.append(token_doc._.blob.polarity)\n",
    "\n",
    "# Plot a histogram of the sentiment scores\n",
    "plt.hist(sentence_token_scores, bins=10, color='green', edgecolor='black')\n",
    "plt.title(\"Histogram of Sentence Sentiment Scores (Using Tokens)\")\n",
    "plt.xlabel(\"Sentiment Score\")\n",
    "plt.ylabel(\"Frequency\")\n",
    "plt.show()\n",
    "\n",
    "# Print the token-based sentence scores \n",
    "print(\"List of Sentence Sentiment Scores (Using Tokens):\")\n",
    "for i in range(0, len(sentence_token_scores), 5):\n",
    "    \n",
    "    # Grab the next five scores (or fewer if at the end)\n",
    "    group = sentence_token_scores[i:i+5]\n",
    "   \n",
    "    # Format and print them\n",
    "    print(\" | \".join(f\"Sentence {i+j+1}: {score:.2f}\" for j, score in enumerate(group)))\n",
    "\n",
    "print(\"\")\n",
    "print(f\"Number of Scores: {len(sentence_token_scores)}\")"
   ]
  },
  {
   "cell_type": "markdown",
   "metadata": {},
   "source": [
    "#### Part 2: Comment on the most common range of scores\n",
    "The most common range of scores appears to be around neutral (0 to 0.2), indicating most sentences in the article have slightly positive or neutral sentiment."
   ]
  },
  {
   "cell_type": "markdown",
   "metadata": {},
   "source": [
    "6. Make a list containing the scores (using lemmas) of every sentence in the article, and plot a histogram with appropriate titles and axis labels of the scores.  From your histogram, what seems to be the most common range of scores (put the answer in a comment after your code)?"
   ]
  },
  {
   "cell_type": "code",
   "execution_count": 790,
   "metadata": {},
   "outputs": [
    {
     "data": {
      "image/png": "[encoded data removed]",
      "text/plain": [
       "<Figure size 640x480 with 1 Axes>"
      ]
     },
     "metadata": {},
     "output_type": "display_data"
    },
    {
     "name": "stdout",
     "output_type": "stream",
     "text": [
      "List of Sentence Sentiment Scores (Using Lemmas):\n",
      "Sentence 1: 0.67, Sentence 2: 0.67, Sentence 3: 0.41, Sentence 4: 0.70, Sentence 5: 0.00\n",
      "Sentence 6: 0.19, Sentence 7: 0.14, Sentence 8: -0.05, Sentence 9: 0.10, Sentence 10: 0.07\n",
      "Sentence 11: 0.00, Sentence 12: 0.00, Sentence 13: 0.07, Sentence 14: 0.20, Sentence 15: -0.01\n",
      "Sentence 16: 0.02, Sentence 17: -0.01, Sentence 18: -0.05, Sentence 19: 0.02, Sentence 20: 0.25\n",
      "Sentence 21: 0.50, Sentence 22: 0.00, Sentence 23: 0.33, Sentence 24: 0.00, Sentence 25: 0.00\n",
      "Sentence 26: 0.10, Sentence 27: 0.00, Sentence 28: -0.10, Sentence 29: 0.00, Sentence 30: 0.07\n",
      "Sentence 31: -0.12, Sentence 32: 0.85, Sentence 33: -0.20, Sentence 34: 0.00, Sentence 35: 0.14\n",
      "Sentence 36: 0.00, Sentence 37: 0.00, Sentence 38: 0.00, Sentence 39: -0.23, Sentence 40: 0.24\n",
      "Sentence 41: 0.60, Sentence 42: 0.40, Sentence 43: -0.17, Sentence 44: 0.03, Sentence 45: 0.00\n",
      "Sentence 46: 0.25, Sentence 47: 0.00, Sentence 48: 0.00, Sentence 49: 1.00, Sentence 50: 0.00\n",
      "Sentence 51: 0.00, Sentence 52: -0.20, Sentence 53: -0.11, Sentence 54: 0.00, Sentence 55: 0.00\n",
      "Sentence 56: 0.00, Sentence 57: 0.00, Sentence 58: 0.16, Sentence 59: -0.40, Sentence 60: 0.50\n",
      "Sentence 61: -0.40, Sentence 62: -0.08, Sentence 63: 0.14, Sentence 64: 0.00, Sentence 65: 0.00\n",
      "Sentence 66: -0.06, Sentence 67: 0.12, Sentence 68: 0.00, Sentence 69: 0.00, Sentence 70: 0.09\n",
      "Sentence 71: 0.00, Sentence 72: 0.00, Sentence 73: 0.00, Sentence 74: 0.09, Sentence 75: 0.00\n",
      "Sentence 76: 0.00, Sentence 77: 0.00, Sentence 78: 0.00, Sentence 79: 0.00, Sentence 80: 0.38\n",
      "Sentence 81: -0.80, Sentence 82: -0.32, Sentence 83: -0.15, Sentence 84: 0.13, Sentence 85: 0.33\n",
      "Sentence 86: 0.00, Sentence 87: 0.00, Sentence 88: 0.00, Sentence 89: 0.50, Sentence 90: 0.00\n",
      "Sentence 91: 0.20, Sentence 92: -0.45, Sentence 93: 0.00, Sentence 94: 0.30, Sentence 95: 0.23\n",
      "Sentence 96: 0.00, Sentence 97: 0.00, Sentence 98: 0.00, Sentence 99: 0.00, Sentence 100: 0.25\n",
      "Sentence 101: 0.00, Sentence 102: -0.05\n",
      "\n",
      "Number of Scores: 102\n"
     ]
    }
   ],
   "source": [
    "# Load spaCy model and add spacytextblob pipeline\n",
    "nlp = spacy.load(\"en_core_web_sm\")\n",
    "nlp.add_pipe(\"spacytextblob\")\n",
    "\n",
    "# Load the HTML content from the file\n",
    "with open(\"article.html\", \"r\", encoding=\"utf-8\") as file:\n",
    "    html_content = file.read()\n",
    "\n",
    "# Parse HTML content \n",
    "soup = BeautifulSoup(html_content, 'html.parser')\n",
    "\n",
    "# Extract the article text\n",
    "article_text = soup.get_text(separator=' ', strip=True)\n",
    "\n",
    "# Process the article text with spaCy pipeline\n",
    "doc = nlp(article_text)\n",
    "\n",
    "# Calculate sentiment score for each sentence based on lemmas\n",
    "sentence_lemma_scores = []\n",
    "for sent in doc.sents:\n",
    "   \n",
    "    # Use lemmas to calculate polarity by reconstructing the sentence\n",
    "    lemma_text = \" \".join([token.lemma_ for token in sent])\n",
    "    lemma_doc = nlp(lemma_text)\n",
    "    sentence_lemma_scores.append(lemma_doc._.blob.polarity)\n",
    "\n",
    "# Plot a histogram of the sentiment scores\n",
    "plt.hist(sentence_lemma_scores, bins=10, color='blue', edgecolor='black')\n",
    "plt.title(\"Histogram of Sentence Sentiment Scores (Using Lemmas)\")\n",
    "plt.xlabel(\"Sentiment Score\")\n",
    "plt.ylabel(\"Frequency\")\n",
    "plt.show()\n",
    "\n",
    "# Print the list of sentence sentiment scores, 5 scores per line\n",
    "print(\"List of Sentence Sentiment Scores (Using Lemmas):\")\n",
    "for i in range(0, len(sentence_lemma_scores), 5):\n",
    "    \n",
    "    # Print 5 scores per line\n",
    "    print(\", \".join([f\"Sentence {j+1}: {sentence_lemma_scores[j]:.2f}\" for j in range(i, min(i+5, len(sentence_lemma_scores)))]))\n",
    "\n",
    "print(\"\")\n",
    "print(f\"Number of Scores: {len(sentence_lemma_scores)}\")    \n",
    "\n"
   ]
  },
  {
   "cell_type": "markdown",
   "metadata": {},
   "source": [
    "#### Part 2: Comment on the most common range of scores\n",
    "The most common range of scores appears to be around neutral (-0.1 to 0.2), indicating most sentences in the article have slightly positive or neutral sentiment."
   ]
  },
  {
   "cell_type": "markdown",
   "metadata": {},
   "source": [
    "7. Using the histograms from questions 5 and 6, decide a \"cutoff\" score for tokens and lemmas such that fewer than half the sentences would have a score greater than the cutoff score.  Record the scores in this Markdown cell\n",
    "\n",
    "* Cutoff Score (tokens): 0.0\n",
    "* Cutoff Score (lemmas): 0.0"
   ]
  },
  {
   "cell_type": "code",
   "execution_count": 791,
   "metadata": {},
   "outputs": [
    {
     "name": "stdout",
     "output_type": "stream",
     "text": [
      "Cutoff Score (lemmas): 0.00\n",
      "Cutoff Score (tokens): 0.00\n"
     ]
    }
   ],
   "source": [
    "# Load spaCy model and add spacytextblob pipeline\n",
    "nlp = spacy.load(\"en_core_web_sm\")\n",
    "nlp.add_pipe(\"spacytextblob\")\n",
    "\n",
    "# Load the HTML content from the file\n",
    "with open(\"article.html\", \"r\", encoding=\"utf-8\") as file:\n",
    "    html_content = file.read()\n",
    "\n",
    "# Parse HTML content \n",
    "soup = BeautifulSoup(html_content, 'html.parser')\n",
    "\n",
    "# Extract the article text\n",
    "article_text = soup.get_text(separator=' ', strip=True)\n",
    "\n",
    "# Process the article text with spaCy pipeline\n",
    "doc = nlp(article_text)\n",
    "\n",
    "# Calculate sentiment score for each sentence based on lemmas\n",
    "sentence_lemma_scores = []\n",
    "for sent in doc.sents:\n",
    "    \n",
    "    # Use lemmas to calculate polarity by reconstructing the sentence\n",
    "    lemma_text = \" \".join([token.lemma_ for token in sent])\n",
    "    lemma_doc = nlp(lemma_text)\n",
    "    sentence_lemma_scores.append(lemma_doc._.blob.polarity)\n",
    "\n",
    "# Calculate sentiment score for each sentence based on tokens\n",
    "sentence_token_scores = []\n",
    "for sent in doc.sents:\n",
    "   \n",
    "    # Use the original tokens to calculate polarity\n",
    "    token_text = \" \".join([token.text for token in sent])\n",
    "    token_doc = nlp(token_text)\n",
    "    sentence_token_scores.append(token_doc._.blob.polarity)\n",
    "\n",
    "# Determine a cutoff score \n",
    "sorted_lemma_scores = sorted(sentence_lemma_scores)\n",
    "sorted_token_scores = sorted(sentence_token_scores)\n",
    "\n",
    "# For Lemmas\n",
    "cutoff_lemma = sorted_lemma_scores[len(sorted_lemma_scores) // 2]\n",
    "\n",
    "# For Tokens\n",
    "cutoff_token = sorted_token_scores[len(sorted_token_scores) // 2]\n",
    "\n",
    "# Print the cutoff scores\n",
    "print(f\"Cutoff Score (lemmas): {cutoff_lemma:.2f}\")\n",
    "print(f\"Cutoff Score (tokens): {cutoff_token:.2f}\")\n"
   ]
  },
  {
   "cell_type": "markdown",
   "metadata": {},
   "source": [
    "8. Create a summary of the article by going through every sentence in the article and adding it to an (initially) empty list if its score (based on tokens) is greater than the cutoff score you identified in question 8.  If your loop variable is named `sent`, you may find it easier to add `sent.text.strip()` to your list of sentences.  Print the summary (I would cleanly generate the summary text by `join`ing the strings in your list together with a space (`' '.join(sentence_list)`)."
   ]
  },
  {
   "cell_type": "code",
   "execution_count": 792,
   "metadata": {},
   "outputs": [
    {
     "name": "stdout",
     "output_type": "stream",
     "text": [
      "Summary:\n",
      "United States World's Best Hospitals 2024 - Newsweek Rankings U.S. World Science Health Life Rankings Opinion Entertainment Fact Check My Turn Education Events Sports Podcasts Better Planet Better Workplaces Vault Mightier Autos Newsletters Unconventional Vantage Experts Voices Subscribe for $1 Login × Subscribe for $1 Login U.S. World Science Health Life Rankings Opinion Entertainment Fact Check My Turn Education Events Sports Podcasts Better Planet Better Workplaces Vault Mightier Autos Newsletters Unconventional Vantage Experts Voices United States World's Best Hospitals 2024 Home > Rankings Portal Share Share on Facebook Share on Twitter Share on LinkedIn Share on Reddit Share on Flipboard Share via Email Comments World's Best Hospitals 2024 There aren't many decisions more important than choosing the right hospital to provide care for yourself or a loved one. To help, Newsweek has partnered with Statista for its annual ranking of the world's best hospitals, a series that began in March 2019. For the first time, Chile and Malaysia have been added to the ranking, which also includes the U.S., most of Western Europe and Scandinavia, 10 Asian countries, Australia and countries elsewhere in the Americas. The data is organized by nation but also lists the top 250 hospitals worldwide, the top 10 of which we've highlighted—particularly their intriguing use of artificial intelligence to advance medical discoveries.\n"
     ]
    }
   ],
   "source": [
    "# Load spaCy model and add spacytextblob pipeline\n",
    "nlp = spacy.load(\"en_core_web_sm\")\n",
    "nlp.add_pipe(\"spacytextblob\")\n",
    "\n",
    "# Load the HTML content from the file\n",
    "with open(\"article.html\", \"r\", encoding=\"utf-8\") as file:\n",
    "    html_content = file.read()\n",
    "\n",
    "# Parse HTML content\n",
    "soup = BeautifulSoup(html_content, 'html.parser')\n",
    "\n",
    "# Extract the article text\n",
    "article_text = soup.get_text(separator=' ', strip=True)\n",
    "\n",
    "# Process the article text with spaCy pipeline\n",
    "doc = nlp(article_text)\n",
    "\n",
    "# Calculate sentiment score for each sentence based on tokens\n",
    "sentence_token_scores = []\n",
    "for sent in doc.sents:\n",
    "    sentence_token_scores.append(sent._.blob.polarity)\n",
    "\n",
    "# Define the cutoff score\n",
    "cutoff_score = 0.00  \n",
    "\n",
    "# Create a list of sentences whose scores are greater than the cutoff score\n",
    "sentence_list = []\n",
    "for sent, score in zip(doc.sents, sentence_token_scores):\n",
    "    if score > cutoff_score:\n",
    "        sentence_list.append(sent.text.strip())\n",
    "\n",
    "# Limit summary to 6 sentences\n",
    "sentence_list = sentence_list[:6] \n",
    "\n",
    "# Generate and print the summary\n",
    "summary = ' '.join(sentence_list)\n",
    "print(\"Summary:\")\n",
    "print(summary)\n"
   ]
  },
  {
   "cell_type": "markdown",
   "metadata": {},
   "source": [
    "9. Print the polarity score of your summary you generated with the token scores (with an appropriate label). Additionally, print the number of sentences in the summarized article."
   ]
  },
  {
   "cell_type": "code",
   "execution_count": 793,
   "metadata": {},
   "outputs": [
    {
     "name": "stdout",
     "output_type": "stream",
     "text": [
      "Polarity Score of Article Summary (Token): 0.45\n",
      "Number of Sentences in the Summary: 6\n"
     ]
    }
   ],
   "source": [
    "# Load spaCy model and add spacytextblob pipeline\n",
    "nlp = spacy.load(\"en_core_web_sm\")\n",
    "nlp.add_pipe(\"spacytextblob\")\n",
    "\n",
    "# Load the HTML content from the file\n",
    "with open(\"article.html\", \"r\", encoding=\"utf-8\") as file:\n",
    "    html_content = file.read()\n",
    "\n",
    "# Parse HTML content \n",
    "soup = BeautifulSoup(html_content, 'html.parser')\n",
    "\n",
    "# Extract the article text\n",
    "article_text = soup.get_text(separator=' ', strip=True)\n",
    "\n",
    "# Process the article text with spaCy pipeline\n",
    "doc = nlp(article_text)\n",
    "\n",
    "# Calculate sentiment score for each sentence based on tokens\n",
    "sentence_token_scores = []\n",
    "for sent in doc.sents:\n",
    "    sentence_token_scores.append(sent._.blob.polarity)\n",
    "\n",
    "# Define the cutoff score \n",
    "cutoff_score = 0.00 \n",
    "\n",
    "# Create a list of sentences whose scores are greater than the cutoff score\n",
    "sentence_list = []\n",
    "for sent, score in zip(doc.sents, sentence_token_scores):\n",
    "    if score > cutoff_score:\n",
    "        sentence_list.append(sent.text.strip())\n",
    "\n",
    "# Limit the summary to no more than 6 sentences\n",
    "sentence_list = sentence_list[:6]\n",
    "\n",
    "# Generate the summary text\n",
    "summary = ' '.join(sentence_list)\n",
    "\n",
    "# Calculate the polarity score of the summary\n",
    "summary_doc = nlp(summary)\n",
    "summary_polarity = summary_doc._.blob.polarity\n",
    "\n",
    "# Print polarity score and number of sentences\n",
    "print(f\"Polarity Score of Article Summary (Token): {summary_polarity:.2f}\")\n",
    "print(f\"Number of Sentences in the Summary: {len(sentence_list)}\")\n",
    "\n"
   ]
  },
  {
   "cell_type": "markdown",
   "metadata": {},
   "source": [
    "10. Create a summary of the article by going through every sentence in the article and adding it to an (initially) empty list if its score (based on lemmas) is greater than the cutoff score you identified in question 8.  If your loop variable is named `sent`, you may find it easier to add `sent.text.strip()` to your list of sentences.  Print the summary (I would cleanly generate the summary text by `join`ing the strings in your list together with a space (`' '.join(sentence_list)`)."
   ]
  },
  {
   "cell_type": "code",
   "execution_count": 794,
   "metadata": {},
   "outputs": [
    {
     "name": "stdout",
     "output_type": "stream",
     "text": [
      "Summary:\n",
      "Sentence 1: United States World's Best Hospitals 2024 - Newsweek Rankings U.S. World Science Health Life Rankings Opinion Entertainment Fact Check My Turn Education Events Sports Podcasts Better Planet Better Workplaces Vault Mightier Autos Newsletters Unconventional Vantage Experts Voices Subscribe for $1 Login × Subscribe for $1 Login U.S. World Science Health Life\n",
      "Sentence 2: Rankings Opinion Entertainment Fact Check My Turn Education Events Sports Podcasts Better Planet Better Workplaces Vault Mightier Autos Newsletters Unconventional Vantage Experts Voices United States World's Best Hospitals 2024 Home >\n",
      "Sentence 3: Rankings Portal Share Share on Facebook Share on Twitter Share on LinkedIn Share on Reddit Share on Flipboard Share via Email Comments World's Best Hospitals 2024 There aren't many decisions more important than choosing the right hospital to provide care for yourself or a loved one.\n",
      "Sentence 4: To help, Newsweek has partnered with Statista for its annual ranking of the world's best hospitals, a series that began in March 2019.\n",
      "Sentence 5: For the first time, Chile and Malaysia have been added to the ranking, which also includes the U.S., most of Western Europe and Scandinavia, 10 Asian countries, Australia and countries elsewhere in the Americas.\n",
      "Sentence 6: The data is organized by nation but also lists the top 250 hospitals worldwide, the top 10 of which we've highlighted—particularly their intriguing use of artificial intelligence to advance medical discoveries.\n",
      "Sentence 7: The score also considers metrics on things like hygiene and patient/doctor ratio as well as a Statista survey on whether hospitals use Patient Reported Outcome Measures (PROMs), which are standardized questionnaires completed by patients to assess their experience and results.\n",
      "Sentence 8: With so much at stake for individuals and institutions, reliable data is key.\n",
      "Sentence 9: Discover the new Global Hospital Rating by Newsweek and Statista .\n",
      "Sentence 10: World's Best Hospitals 2024 - Top 250 World's Best Hospitals 2024 - Australia World's Best Hospitals 2024 - Austria World's Best Hospitals 2024 - Belgium World's Best Hospitals 2024 - Brazil World's Best Hospitals 2024 - Canada World's Best Hospitals 2024 - Chile World's Best Hospitals 2024 - Colombia World's Best Hospitals 2024 - Denmark World's Best Hospitals 2024 - Finland World's Best Hospitals 2024 - France World's Best Hospitals 2024 - Germany World's Best Hospitals 2024 - India World's Best Hospitals 2024 - Israel World's Best Hospitals 2024 - Italy World's Best Hospitals 2024 - Japan World's Best Hospitals 2024 - Malaysia World's Best Hospitals 2024 - Mexico World's Best Hospitals 2024 - Norway World's Best Hospitals 2024 - Saudi Arabia World's Best Hospitals 2024 - Singapore World's Best Hospitals 2024 - South Korea World's Best Hospitals 2024 - Spain World's Best Hospitals 2024 - Sweden World's Best Hospitals 2024 - Switzerland World's Best Hospitals 2024 - Taiwan World's Best Hospitals 2024 - Thailand World's Best Hospitals 2024 - The Netherlands World's Best Hospitals 2024 - United Arab Emirates World's Best Hospitals 2024 - United Kingdom World's Best Hospitals 2024 - United States ﻿Rank Hospital name Score City State Footnote PROMs survey Infection Prevention Award Patient Experience Award 1 Mayo Clinic - Rochester 97.51% Rochester Minnesota ✓ ✓ 2 Cleveland Clinic 93.17% Cleveland Ohio ✓ 3 The Johns Hopkins Hospital 91.16% Baltimore Maryland ✓ ✓ 4 Massachusetts General Hospital 90.97% Boston Massachusetts ✓ ✓ 5 UCLA Health – Ronald Reagan Medical Center 89.36% Los Angeles California ✓ ✓ 6 Stanford Health Care - Stanford Hospital 88.82% Stanford California ✓ ✓ 7 Brigham And Women's Hospital 87.47% Boston Massachusetts ✓ ✓ 8 The Mount Sinai Hospital 85.67% New York New York 9 Northwestern Memorial Hospital 85.17% Chicago Illinois ✓ ✓ 10 University of Michigan Health 85.14% Ann Arbor Michigan ✓ ✓ 11 Cedars-Sinai Medical Center 85.11% Los Angeles California ✓ 12 UCSF Medical Center 85.02% San Francisco California ✓ ✓ 13 Hospital of the University of Pennsylvania - Penn Presbyterian 84.72% Philadelphia Pennsylvania ✓ ✓ 14 New York-Presbyterian Hospital-Columbia and Cornell 82.48% New York New York ✓ 15 Mayo Clinic - Jacksonville 82.00% Jacksonville Florida ✓ ✓ 16 Duke University Hospital 81.74% Durham North Carolina ✓ 17 Mayo Clinic - Phoenix 81.73% Phoenix Arizona ✓ ✓ 18 NYU Langone Hospitals 81.24% New York New York ✓ 19 Houston Methodist Hospital 81.02% Houston Texas ✓ ✓ 20 Rush University Medical Center 80.26% Chicago Illinois ✓ ✓ 21 Vanderbilt University Medical Center 78.58% Nashville Tennessee 22 Beth Israel Deaconess Medical Center 77.97% Boston Massachusetts ✓ 23 University of Chicago Medical Center 77.94% Chicago Illinois ✓ 24 UCLA Health – Santa Monica Medical Center 76.42% Santa Monica California ✓ ✓ 25 Jacobs Medical Center at UC San Diego Health 74.73% San Diego California ✓ ✓ 26 University of Wisconsin Hospitals 74.67% Madison Wisconsin ✓ ✓ 27 Barnes-Jewish Hospital 73.61% Saint Louis Missouri ✓ 28 University Hospitals Cleveland Medical Center 73.54% Cleveland Ohio 29 Emory University Hospital 73.51% Atlanta Georgia ✓ 30 University of Washington Medical Center 73.50% Seattle Washington ✓ 31 University of California - Davis Medical Center 73.47% Sacramento California 32 Yale New Haven Hospital 73.40% New Haven Connecticut ✓ 33 University of Colorado Hospital 72.97% Aurora Colorado ✓ 34 University of Utah Hospital 72.85% Salt Lake City Utah ✓ ✓ 35 Scripps Memorial Hospital La Jolla 72.81% La Jolla California ✓ ✓ 36 Keck Hospital of USC 72.63% Los Angeles California ✓ 37 University of Kansas Hospital 72.56% Kansas City Kansas ✓ ✓ 38 Cleveland Clinic Fairview Hospital 72.18% Cleveland Ohio ✓ 39 University of Virginia Medical Center 72.17% Charlottesville Virginia ✓ ✓ 40 Virginia Mason Medical Center 72.02% Seattle Washington ✓ ✓ 41 Tufts Medical Center 71.64% Boston Massachusetts ✓ 42 UT Southwestern Medical Center 71.21% Dallas Texas ✓ ✓ 43 Torrance Memorial Medical Center 70.92% Torrance California ✓ ✓ 44 Johns Hopkins Bayview Medical Center 70.77% Baltimore Maryland ✓ 45 Cleveland Clinic - Florida 70.72% Weston Florida ✓ 46 Jefferson Health - Thomas Jefferson University Hospitals 70.71% Philadelphia Pennsylvania ✓ 47 Morristown Medical Center 70.63% Morristown New Jersey ✓ ✓ 48 UAB Hospital 70.59% Birmingham Alabama 49 OHSU Hospital 70.57% Portland Oregon 50 Baylor University Medical Center 70.51% Dallas Texas ✓ 51 Brigham and Women's Faulkner Hospital 70.50% Boston Massachusetts ✓ 52 Baylor St. Luke's Medical Center 70.34% Houston Texas ✓ 53 Mercy Hospital St. Louis 70.25% Saint Louis Missouri 54 CentraCare - St. Cloud Hospital 70.22% Saint Cloud Minnesota 55 Sanford USD Medical Center 70.20% Sioux Falls South Dakota ✓ 56 Providence St. Vincent Medical Center 70.04% Portland Oregon ✓ ✓ 57 Ohio State University - Wexner Medical Center 69.84% Columbus Ohio ✓ 58 Hackensack University Medical Center 69.72% Hackensack New Jersey 59 Saint Luke's Hospital of Kansas City 69.67% Kansas City Missouri ✓ ✓ 60 Penn State Health - Milton S. Hershey Medical Center 69.59% Hershey Pennsylvania ✓ ✓ 61 St. Luke's Regional Medical Center 69.56% Boise Idaho ✓ ✓ 62 UPMC Presbyterian & Shadyside 69.52% Pittsburgh Pennsylvania ✓ ✓ 63 VCU Medical Center 69.36% Richmond Virginia ✓ 64 Northwestern Medicine Central DuPage Hospital 69.17% Winfield Illinois ✓ 65 Nebraska Medicine - Nebraska Medical Center 69.13% Omaha Nebraska 66 Froedtert Hospital and the Medical College of Wisconsin 69.11% Milwaukee Wisconsin ✓ 67 UnityPoint Health - Meriter 69.10% Madison Wisconsin ✓ 68 Mayo Clinic - Health System In Eau Claire 68.86% Eau Claire Wisconsin ✓ ✓ 69 Inova Fairfax Hospital 68.80% Falls Church Virginia ✓ ✓ 70 UMass Memorial Medical Center 68.65% Worcester Massachusetts ✓ 71 UNC REX Hospital 68.56% Raleigh North Carolina ✓ ✓ 72 Sharp Memorial Hospital 68.34% San Diego California ✓ 73 Memorial Hermann-Texas Medical Center 68.32% Houston Texas ✓ 74 Medical City Dallas Hospital 68.22% Dallas Texas ✓ 75 Loyola University Medical Center 68.17% Maywood Illinois 76 Intermountain Medical Center 68.16% Murray Utah ✓ ✓ 77 Tampa General Hospital 68.14% Tampa Florida 78 Christ Hospital 68.04% Cincinnati Ohio ✓ ✓ 79 UNC Medical Center 67.96% Chapel Hill North Carolina ✓ ✓ 80 IU Health West Hospital 67.95% Avon Indiana 81 University of Minnesota Medical Center 67.94% Minneapolis Minnesota ✓ 82 Penn Medicine Chester County Hospital 67.92% West Chester Pennsylvania ✓ ✓ 83 University of Maryland Medical Center 67.91% Baltimore Maryland 84 El Camino Hospital 67.90% Mountain View California ✓ ✓ 85 ChristianaCare 67.89% Newark Delaware ✓ 86 Henry Ford Hospital 67.84% Detroit Michigan 87 St. Joseph Mercy Chelsea 67.82% Chelsea Michigan ✓ 88 Maine Medical Center 67.73% Portland Maine ✓ ✓ 89 Newton-Wellesley Hospital 67.72% Newton Massachusetts 90 Luminis Health Anne Arundel Medical Center 67.68% Annapolis Maryland ✓ 91 Advocate Good Samaritan Hospital 67.51% Downers Grove Illinois ✓ 92 Atrium Health Carolinas Medical Center 67.45% Charlotte North Carolina 93 Cleveland Clinic Akron General 67.41% Akron Ohio ✓ 94 Aurora St. Luke's Medical Center 67.37% Milwaukee Wisconsin 95 University of Iowa Hospitals and Clinics 67.36% Iowa City Iowa ✓ 96 MemorialCare Long Beach Medical Center 67.34% Long Beach California 97 Abbott Northwestern Hospital 67.33% Minneapolis Minnesota 98 Inova Alexandria Hospital 67.32% Alexandria Virginia ✓ 99 IU Health North Hospital 67.27% Carmel Indiana ✓ ✓ 100 UC Irvine Medical Center 67.08% Orange California ✓ 101 Queen's Medical Center 66.98% Honolulu Hawaii ✓ 102 Lahey Hospital and Medical Center 66.96% Burlington Massachusetts ✓ 103 Roper Hospital 66.94% Charleston South Carolina ✓ 104 Advocate Lutheran General Hospital 66.92% Park Ridge Illinois ✓ 105\n",
      "Sentence 11: 64.34% Norfolk Virginia ✓ ✓ 250 Kaiser Permanente Woodland Hills Medical Center 64.33% Woodland Hills California 251 Southwestern Medical Center 64.31% Lawton Oklahoma ✓ 252 Corewell Health Butterworth Hospital 64.30% Grand Rapids Michigan ✓ 253 St. Luke's Magic Valley Medical Center 64.29% Twin Falls Idaho ✓ ✓ 254 Sentara Williamsburg Regional Medical Center 64.28% Williamsburg Virginia ✓ ✓ 255 Stillwater Medical Center 64.27% Stillwater Oklahoma ✓ ✓ 256 Sutter Medical Center, Sacramento 64.26% Sacramento California ✓ 257 Mount Sinai Morningside 64.25% New York New York ✓ 258 Asante Rogue Regional Medical Center 64.24% Medford Oregon 259 Good Samaritan Hospital 64.23% Cincinnati Ohio ✓ 260 St. Tammany Parish Hospital 64.22% Covington Louisiana ✓ ✓ 261 Fairview Park Hospital 64.21% Dublin Georgia ✓ 262 St. Clair Hospital 64.20% Pittsburgh Pennsylvania ✓ 263 Memorial Hospital 64.19% South Bend Indiana ✓ 264 Memorial Hospital And Health Care Center 64.18% Jasper Indiana ✓ 265 Bellin Memorial Hospital 64.17% Green Bay Wisconsin ✓ ✓ 266 Main Line Hospital - Paoli Hospital 64.15% Paoli Pennsylvania ✓ ✓ 267 Orlando Health Orlando Regional Medical Center 64.14% Orlando Florida ✓ 268 Pinnacle Health Hospitals 64.13% Harrisburg Pennsylvania ✓ 269 Sharp Coronado Hospital 64.12% Coronado California 270 WVU Medicine 64.11% Morgantown West Virginia ✓ 271 Anderson Hospital 64.10% Maryville Illinois ✓ 272 Adventist Health Castle 64.09% Kailua Hawaii ✓ ✓ 273 Catawba Valley Medical Center 64.08% Hickory North Carolina ✓ 274 Mercy Health - West Hospital 64.06% Cincinnati Ohio ✓ 275 Gundersen Lutheran Medical Center 64.05% La Crosse Wisconsin ✓ ✓ 276 Northside Hospital Forsyth 64.04% Cumming Georgia ✓ 277 Lake Region Healthcare Corporation 64.03% Fergus Falls Minnesota ✓ 278 Christus Mother Frances - Hospital Tyler 64.02% Tyler Texas 279 Trinity Health Ann Arbor Hospital 64.01% Ann Arbor Michigan 280 MedStar Union Memorial Hospital 63.99% Baltimore Maryland ✓ 281 Kaiser Permanente Moanalua Medical Center 63.98% Honolulu Hawaii ✓ 282 Presbyterian Hospital 63.97% Albuquerque New Mexico 283 Kettering Health Miamisburg 63.96% Miamisburg Ohio 284 Ochsner Medical Center 63.95% New Orleans Louisiana ✓ 285 Duncan Regional Hospital 63.94% Duncan Oklahoma 286\n",
      "Sentence 12: ✓ 353 UF Health Shands Hospital 62.96% Gainesville Florida ✓ 354 Middleburg Heights Medical Center 62.95% Middleburg Heights Ohio ✓ 355 Aspirus Wausau Hospital 62.94% Wausau Wisconsin ✓ 356 John Dempsey Hospital 62.93% Farmington Connecticut ✓ ✓ 357 Lenox Hill Hospital 62.92% New York New York ✓ 358 Denver Health Medical Center 62.91% Denver Colorado 359 White Plains Hospital Center 62.90% White Plains New York ✓ ✓ 360 Centracare Health - Monticello 62.89% Monticello Minnesota ✓ 361 Temple University Hospital 62.87% Philadelphia Pennsylvania ✓ 362 Thibodaux Regional Health System 62.86% Thibodaux Louisiana ✓ 363 Ascension Seton Medical Center Austin 62.85% Austin Texas ✓ 364 ThedaCare Regional Medical Center - Appleton 62.84% Appleton Wisconsin 365 Guadalupe Regional Medical Center 62.83% Seguin Texas ✓ 366 Health One - Rose Medical Center 62.82% Denver Colorado ✓ 367 Meadowview Regional Medical Center 62.77% Maysville Kentucky 368 Rhode Island Hospital 62.75% Providence Rhode Island ✓ 369 Ascension St. Vincent Carmel Hospital 62.74% Carmel Indiana ✓ 370 Baptist Health Louisville 62.73% Louisville Kentucky ✓ 371 Northside Hospital, Atlanta 62.72% Atlanta Georgia ✓ 372 Jupiter Medical Center 62.71% Jupiter Florida ✓ ✓ 373 Williamson Medical Center 62.69% Franklin Tennessee ✓ 374 St. Mary Medical Center, Langhorne 62.67% Langhorne Pennsylvania 375 University Health Lakewood Medical Center 62.63% Kansas City Missouri 376 Methodist Fremont Health 62.61% Fremont Nebraska ✓ 377 Dignity Health - Mercy Gilbert Medical Center 62.60% Gilbert Arizona ✓ 378 Sutter Roseville Medical Center 62.59% Roseville California 379 Lutheran Medical Center 62.58% Wheat Ridge Colorado ✓ 380 Washington Regional Medical Center 62.57% Fayetteville Arkansas ✓ 381 Piedmont Athens Regional Medical Center 62.54% Athens Georgia ✓ 382 Cuyuna Regional Medical Center 62.53% Crosby Minnesota ✓ 383 HonorHealth - Scottsdale Thompson Peak Medical Center 62.51% Scottsdale Arizona ✓ 384 Dignity Health - St. Joseph's Hospital And Medical Center 62.48% Phoenix Arizona ✓ 385 Central Texas Medical Center 62.32% San Marcos Texas 386 Saint Anne's Hospital 62.29% Fall River Massachusetts ✓ ✓ 387 Baylor Scott & White Medical Center - Centennial 62.28% Frisco Texas 388 MedStar Washington Hospital Center 62.27% Washington District of Columbia ✓ 389 Winchester Hospital 62.26% Winchester Massachusetts 390 Methodist Hospital 62.25% San Antonio Texas ✓ 391 Wellstar Paulding Hospital 62.24% Hiram Georgia ✓ 392 HSHS St. Joseph's Hospital 62.23% Baton Rouge Louisiana 2 393 Methodist Richardson Medical Center 62.22% Richardson Texas ✓ 394 Mayo Clinic Health System - Mankato 62.21% Mankato Minnesota ✓ ✓ 395 Memorial Hospital Miramar 62.20% Miramar Florida ✓ 396 MercyOne Des Moines Medical Center 62.19% Des Moines Iowa ✓ 397 St. Catherine Hospital 62.18% East Chicago Indiana 398 Hartford Hospital 62.17% Hartford Connecticut ✓ 399 Community Hospital South 62.16% Indianapolis Indiana ✓ 400 Mercy Hospital Oklahoma City 62.15% Oklahoma City Oklahoma ✓ 401 Loma Linda University Medical Center 62.14% Baton Rouge Louisiana ✓ ✓ 402 Mercy Medical Center - Cedar Rapids 62.13% Cedar Rapids Iowa ✓ ✓ 403 SSM Health - St. Mary's Hospital 62.12% Centralia Illinois 404 Methodist Dallas Medical Center 62.11% Dallas Texas ✓ 405 Baptist Medical Center Jacksonville 62.10% Jacksonville Florida ✓ 406 Atrium Health Wake Forest Baptist Medical Center 62.09% Winston-Salem North Carolina 407 Lawrence Memorial Hospital, Lawrence 62.08% Lawrence Kansas ✓ 408 Duke Health Raleigh Hospital 62.07% Raleigh North Carolina ✓ ✓ 409 Piedmont Hospital 62.06% Atlanta Georgia ✓ 410 Ascension Saint Thomas Hospital West 62.05% Nashville Tennessee ✓ 411 Monmouth Medical Center 62.04% Long Branch New Jersey ✓ 412 University of Texas Medical Branch 62.03% Galveston Texas special Boston Children's Hospital - Pediatrics Boston Massachusetts 1,2 special Children's Hospital of Philadelphia - Pediatrics Philadelphia Pennsylvania 1,2 special Cincinnati Children's Hospital Medical Center - Pediatrics Cincinnati Ohio 1,2 special Hospital For Special Surgery - Surgery New York New York ✓ special MD Anderson Cancer Center - Oncology Houston Texas 1 ✓ special Memorial Sloan Kettering Cancer Center - Oncology New York New York 1 ✓ special St. Francis Hospital - Cardiology Roslyn New York ✓ ✓ special Woman's Hospital - Woman Baton Rouge Louisiana ✓ ✓ Visit our rankings portal LICENSING:\n",
      "Sentence 13: If your hospital is listed above, you can find out more about the licensing options visiting the Statista website.\n",
      "Sentence 14: Click here to learn more about the licensing options.\n",
      "Sentence 15: The global board of medical experts was founded by Statista to support the World's Best Hospitals Project.\n",
      "Sentence 16: For this year's edition of World's Best Hospitals, all board members have signed a charter of ethics to declare their interest as members of the expert board for the hospital ranking methodology of Statista.\n",
      "Sentence 17: This includes input regarding new data sources, future methodological considerations, as well as the ongoing development of the PROMs implementation survey.\n",
      "Sentence 18: METHODOLOGY The World's Best Hospitals 2024 ranking lists the best hospitals in 30 countries: Australia, Austria, Belgium, Brazil, Canada, Chile, Colombia, Denmark, Finland, France, Germany, India, Israel, Italy, Japan, Malaysia, Mexico, The Netherlands, Norway, Saudi Arabia, Singapore, South Korea, Spain, Sweden, Switzerland, Taiwan, Thailand, United Arab Emirates, United Kingdom, and U.S.\n",
      "Sentence 19: In addition, three new national accreditations for South Korea, Malaysia and Chile were added to the scoring model and for the United States list CMS eligibility criteria was introduced.\n",
      "Sentence 20: Participants were asked to recommend hospitals in their own country as well as in other countries.\n",
      "Sentence 21: Recommendations for own employer/hospital were not allowed.\n",
      "Sentence 22: 2. Patient Satisfaction : Publicly available data from existing patient surveys was used to analyze patient experience.\n",
      "Sentence 23: Examples of survey topics include general satisfaction with the hospital, recommendation of hospital and satisfaction with medical care.\n",
      "Sentence 24: Quality metrics from a variety of public sources were collected for most countries.\n",
      "Sentence 25: 4. PROMs Implementation Survey: The PROMs implementation score has been included in the scoring model of the World's Best Hospitals project.\n",
      "Sentence 26: A doesn't necessarily mean that this hospital is better than a hospital with a score of 87 in country B).\n",
      "Sentence 27: The U.S. had the most hospitals awarded with 420, while Israel and Singapore were represented with 10 hospitals each.\n",
      "Sentence 28: Three new components were added to the calculation this year: quality metrics excellence, patient satisfaction excellence and PROMs implementation excellence.\n",
      "Sentence 29: The ranking is the result of an elaborate process which, due to the interval of data-collection and analysis, is a reflection of the last calendar year.\n",
      "Sentence 30: The information provided in this ranking should be considered in conjunction with other available information about hospitals or, if possible, accompanied by a visit to a facility.\n",
      "Sentence 31: Disclaimer: The information provided in this ranking should be considered in conjunction with other available information about hospitals or, if possible, accompanied by a visit to a facility.\n",
      "Sentence 32: ✓ - Hospitals filled out the PROMs implementation survey Ribbon: Hospital surpassed minimum grading threshold of PROMs Ribbons: Hospital has an advanced level of PROMs - The focus of World's Best Hospitals is to award general hospitals.\n",
      "Sentence 33: About Statista R Statista R is a world leader in the creation of company, brand, and product rankings and top lists, based on comprehensive market research and data analysis: Statista R recognizes the best.\n",
      "Sentence 34: With a team of over 100 expert analysts and in cooperation with more than 40 high profile media brands across all continents, Statista R creates transparency for consumers and business decision makers and helps companies build trust and recognition across a plethora of industries and product categories.\n",
      "Sentence 35: Find out more at statista.com.\n",
      "Sentence 36: They accomplish this by empowering patient and clinical leaders to standardize important clinical, quality of life, function and experience results for health care, and enabling transparent large-scale use to achieve patient-centric health system transformation.\n",
      "Sentence 37: The sets are available in IT-ready interoperable formats and have been implemented in 500+ care settings in 42+ countries.\n",
      "Sentence 38: U.S. World Science Health Rankings Opinion Entertainment Fact Check My Turn Education Events Sports Podcasts Better Planet Better Workplaces Vault Mightier Autos Newsletters Unconventional Vantage Experts Voices Trending Israel at War Vladimir Putin Russia-Ukraine War Donald Trump Subscriptions Digital+ Monthly (Ad Free Trial) $1.00 Digital+ Yearly $49.00 Premium Monthly $9.99 Premium Yearly $99 Newsletters in your inbox See all The Bulletin (Daily) See Sample The Gist of It\n",
      "Sentence 39: The Debate (Twice a Week) Pawsitively (Daily) Better Planet (Weekly)\n"
     ]
    }
   ],
   "source": [
    "# Load spaCy model and add spacytextblob pipeline\n",
    "nlp = spacy.load(\"en_core_web_sm\")\n",
    "nlp.add_pipe(\"spacytextblob\")\n",
    "\n",
    "# Load the HTML content from the file\n",
    "with open(\"article.html\", \"r\", encoding=\"utf-8\") as file:\n",
    "    html_content = file.read()\n",
    "\n",
    "# Parse HTML content \n",
    "soup = BeautifulSoup(html_content, 'html.parser')\n",
    "\n",
    "# Extract the article text\n",
    "article_text = soup.get_text(separator=' ', strip=True)\n",
    "\n",
    "# Process the article text with spaCy pipeline\n",
    "doc = nlp(article_text)\n",
    "\n",
    "# Calculate sentiment score for each sentence based on lemmas\n",
    "sentence_lemma_scores = []\n",
    "for sent in doc.sents:\n",
    "    lemma_text = \" \".join([token.lemma_ for token in sent])\n",
    "    lemma_doc = nlp(lemma_text)\n",
    "    sentence_lemma_scores.append(lemma_doc._.blob.polarity)\n",
    "\n",
    "# Define the cutoff score for lemmas\n",
    "cutoff_score = 0.00  \n",
    "\n",
    "# Create a list of sentences whose lemma scores are greater than the cutoff score\n",
    "sentence_list = []\n",
    "for sent, score in zip(doc.sents, sentence_lemma_scores):\n",
    "    if score > cutoff_score:\n",
    "        sentence_list.append(sent.text.strip())\n",
    "\n",
    "# Format the summary\n",
    "formatted_summary = \"\\n\".join(\n",
    "    [f\"Sentence {i + 1}: {sentence}\" for i, sentence in enumerate(sentence_list)]\n",
    ")\n",
    "\n",
    "# Print summary\n",
    "print(\"Summary:\")\n",
    "print(formatted_summary)\n"
   ]
  },
  {
   "cell_type": "markdown",
   "metadata": {},
   "source": [
    "11. Print the polarity score of your summary you generated with the lemma scores (with an appropriate label). Additionally, print the number of sentences in the summarized article."
   ]
  },
  {
   "cell_type": "code",
   "execution_count": 795,
   "metadata": {},
   "outputs": [
    {
     "name": "stdout",
     "output_type": "stream",
     "text": [
      "Polarity Score of Article Summary (Lemma): 0.17\n",
      "Number of Sentences in the Summary: 39\n"
     ]
    }
   ],
   "source": [
    "# Load spaCy model and add spacytextblob pipeline\n",
    "nlp = spacy.load(\"en_core_web_sm\")\n",
    "nlp.add_pipe(\"spacytextblob\")\n",
    "\n",
    "# Load the HTML content from the file\n",
    "with open(\"article.html\", \"r\", encoding=\"utf-8\") as file:\n",
    "    html_content = file.read()\n",
    "\n",
    "# Parse HTML content \n",
    "soup = BeautifulSoup(html_content, 'html.parser')\n",
    "\n",
    "# Extract the article text\n",
    "article_text = soup.get_text(separator=' ', strip=True)\n",
    "\n",
    "# Process the article text with spaCy pipeline\n",
    "doc = nlp(article_text)\n",
    "\n",
    "# Calculate sentiment score for each sentence based on lemmas\n",
    "sentence_lemma_scores = []\n",
    "for sent in doc.sents:\n",
    "    lemma_text = \" \".join([token.lemma_ for token in sent])\n",
    "    lemma_doc = nlp(lemma_text)\n",
    "    sentence_lemma_scores.append(lemma_doc._.blob.polarity)\n",
    "\n",
    "# Define the cutoff score for lemmas\n",
    "cutoff_score = 0.00  \n",
    "\n",
    "# Create a list of sentences whose lemma scores are greater than the cutoff score\n",
    "sentence_list = []\n",
    "for sent, score in zip(doc.sents, sentence_lemma_scores):\n",
    "    if score > cutoff_score:\n",
    "        sentence_list.append(sent.text.strip())\n",
    "\n",
    "# Generate summary\n",
    "summary = \" \".join(sentence_list)\n",
    "\n",
    "# Calculate summary polarity score\n",
    "summary_doc = nlp(summary)\n",
    "summary_polarity = summary_doc._.blob.polarity\n",
    "\n",
    "# Print the polarity score and number of sentences\n",
    "print(f\"Polarity Score of Article Summary (Lemma): {summary_polarity:.2f}\")\n",
    "print(f\"Number of Sentences in the Summary: {len(sentence_list)}\")\n"
   ]
  },
  {
   "cell_type": "markdown",
   "metadata": {},
   "source": [
    "12.  Compare your polarity scores of your summaries to the polarity scores of the initial article.  Is there a difference?  Why do you think that may or may not be?.  Answer in this Markdown cell.  "
   ]
  },
  {
   "cell_type": "markdown",
   "metadata": {},
   "source": [
    "|**Item**     |**Polarity Score**|**Number of Sentences**|**Positive or Negative Sentiment**|\n",
    "|-------------|:----------------:|:---------------------:|:----------------------:|\n",
    "|Full Article |       0.09       |         102           |       Positive         |\n",
    "|Token Summary|       0.45       |          6            |       Positive         |\n",
    "|Lemma Summary|       0.17       |          39           |       Positive         |"
   ]
  },
  {
   "cell_type": "markdown",
   "metadata": {},
   "source": [
    "There are a few differences to note, when comparing the polarity scores. The full article has 102 sentences total, while the summaries have 45 combined sentences. In regards to the polarity scores, they are mainly neutral, with a positive sentiment. The more sentences that are analyzed, the closer the polarity score is to 0. The full article has 102 sentences with a score very close to 0. The lemma summary has 39 sentences with a score of 0.17, and the token summary has only 6 sentences with the most positive score of 0.45. "
   ]
  },
  {
   "cell_type": "markdown",
   "metadata": {},
   "source": [
    "13. Based on your reading of the original article, which summary do you think is better (if there's a difference).  Why do you think this might be?"
   ]
  },
  {
   "cell_type": "markdown",
   "metadata": {},
   "source": [
    "Based on my reading of the article, there isn't much of a difference between all three of the items. They are all mainly neutral, as the full article was mainly factual and didn't show opinions one way or another. Due to the lack of opinions, that is why this article is very neutral and not leaning any way. "
   ]
  }
 ],
 "metadata": {
  "kernelspec": {
   "display_name": "Python 3",
   "language": "python",
   "name": "python3"
  },
  "language_info": {
   "codemirror_mode": {
    "name": "ipython",
    "version": 3
   },
   "file_extension": ".py",
   "mimetype": "text/x-python",
   "name": "python",
   "nbconvert_exporter": "python",
   "pygments_lexer": "ipython3",
   "version": "3.12.4"
  }
 },
 "nbformat": 4,
 "nbformat_minor": 4
}
